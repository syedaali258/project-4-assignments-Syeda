{
  "nbformat": 4,
  "nbformat_minor": 0,
  "metadata": {
    "colab": {
      "provenance": [],
      "authorship_tag": "ABX9TyM5RGZtYr6+SRpmUzJq0Hun",
      "include_colab_link": true
    },
    "kernelspec": {
      "name": "python3",
      "display_name": "Python 3"
    },
    "language_info": {
      "name": "python"
    }
  },
  "cells": [
    {
      "cell_type": "markdown",
      "metadata": {
        "id": "view-in-github",
        "colab_type": "text"
      },
      "source": [
        "<a href=\"https://colab.research.google.com/github/syedaali258/project-4-assignments-Syeda/blob/main/03_if_statements.ipynb\" target=\"_parent\"><img src=\"https://colab.research.google.com/assets/colab-badge.svg\" alt=\"Open In Colab\"/></a>"
      ]
    },
    {
      "cell_type": "code",
      "source": [
        "print(\"01_print_events\")\n",
        "\n",
        "def even():\n",
        "  for i in range(40):\n",
        "    print(\"Here is 20 even numbers are: \",i *2)\n",
        "\n",
        "\n",
        "if __name__ == \"__main__\":\n",
        "  even()"
      ],
      "metadata": {
        "id": "D8aK83NcctYz",
        "colab": {
          "base_uri": "https://localhost:8080/"
        },
        "outputId": "68444a80-5c52-486b-e885-ecf3d3ef7571"
      },
      "execution_count": null,
      "outputs": [
        {
          "output_type": "stream",
          "name": "stdout",
          "text": [
            "01_print_events\n",
            "Here is 20 even numbers are:  0\n",
            "Here is 20 even numbers are:  2\n",
            "Here is 20 even numbers are:  4\n",
            "Here is 20 even numbers are:  6\n",
            "Here is 20 even numbers are:  8\n",
            "Here is 20 even numbers are:  10\n",
            "Here is 20 even numbers are:  12\n",
            "Here is 20 even numbers are:  14\n",
            "Here is 20 even numbers are:  16\n",
            "Here is 20 even numbers are:  18\n",
            "Here is 20 even numbers are:  20\n",
            "Here is 20 even numbers are:  22\n",
            "Here is 20 even numbers are:  24\n",
            "Here is 20 even numbers are:  26\n",
            "Here is 20 even numbers are:  28\n",
            "Here is 20 even numbers are:  30\n",
            "Here is 20 even numbers are:  32\n",
            "Here is 20 even numbers are:  34\n",
            "Here is 20 even numbers are:  36\n",
            "Here is 20 even numbers are:  38\n",
            "Here is 20 even numbers are:  40\n",
            "Here is 20 even numbers are:  42\n",
            "Here is 20 even numbers are:  44\n",
            "Here is 20 even numbers are:  46\n",
            "Here is 20 even numbers are:  48\n",
            "Here is 20 even numbers are:  50\n",
            "Here is 20 even numbers are:  52\n",
            "Here is 20 even numbers are:  54\n",
            "Here is 20 even numbers are:  56\n",
            "Here is 20 even numbers are:  58\n",
            "Here is 20 even numbers are:  60\n",
            "Here is 20 even numbers are:  62\n",
            "Here is 20 even numbers are:  64\n",
            "Here is 20 even numbers are:  66\n",
            "Here is 20 even numbers are:  68\n",
            "Here is 20 even numbers are:  70\n",
            "Here is 20 even numbers are:  72\n",
            "Here is 20 even numbers are:  74\n",
            "Here is 20 even numbers are:  76\n",
            "Here is 20 even numbers are:  78\n"
          ]
        }
      ]
    },
    {
      "cell_type": "code",
      "source": [
        "print(\"02_International_voting_age\")\n",
        "\n",
        "peturksbouipo:int = 16\n",
        "stanlau:int = 25\n",
        "Mayengua: int = 48\n",
        "age:int = int(input(\"How old are you?\"))\n",
        "def main():\n",
        "\n",
        "  if age >= peturksbouipo:\n",
        "    print(f\"Your agr is {age}. you are eligible to vote in peturksbouipo!\")\n",
        "  else:\n",
        "    print(f\"Your age is {age}. You are not eligible to vote in peturksbouipo!\")\n",
        "\n",
        "\n",
        "if age >= stanlau:\n",
        "     print(f\"You are eligable to vote in stanlau!\")\n",
        "else:\n",
        "    print(f\"Your age is {age}. You are not eligible to vote in stanlau!\")\n",
        "\n",
        "\n",
        "if age >= Mayengua:\n",
        "     print(f\"your age is {age}.You are eligible to vote in Mayengua!\")\n",
        "else:\n",
        "     print(f\"Your age is {age}.You are not eligible to vote in Mayengau!\")\n",
        "\n",
        "\n",
        "if __name__ == \"__main__\":\n",
        "  main\n"
      ],
      "metadata": {
        "colab": {
          "base_uri": "https://localhost:8080/"
        },
        "id": "fY_weKobehEw",
        "outputId": "cc76f94f-c23d-41d3-e0f8-e79fcd880f7d"
      },
      "execution_count": null,
      "outputs": [
        {
          "output_type": "stream",
          "name": "stdout",
          "text": [
            "02_International_voting_age\n",
            "How old are you?35\n",
            "You are eligable to vote in stanlau!\n",
            "Your age is 35.You are not eligible to vote in Mayengau!\n"
          ]
        }
      ]
    },
    {
      "cell_type": "code",
      "source": [
        "print(\"03_leap_year\")\n",
        "\n",
        "def leap_year():\n",
        "  year:int = int(input(\"Enter as year.\"))\n",
        "\n",
        "  if year % 4 == 0:\n",
        "    if year % 100 == 0:\n",
        "      if year % 400 == 0:\n",
        "        print(f'{year} is a leap year.')\n",
        "      else:\n",
        "        print(f\"{year} is not a leap year.\")\n",
        "    else:\n",
        "        print(f\"{year} is not a leap year.\")\n",
        "  else:\n",
        "        print(f\"{year} is not a leap year.\")\n",
        "\n",
        "if __name__ == \"__main__\":\n",
        "  leap_year()\n"
      ],
      "metadata": {
        "colab": {
          "base_uri": "https://localhost:8080/"
        },
        "id": "a5IJyFtsrCEU",
        "outputId": "66e7c3ad-d432-4b17-c468-c4c558bd094c"
      },
      "execution_count": 3,
      "outputs": [
        {
          "output_type": "stream",
          "name": "stdout",
          "text": [
            "03_leap_year\n",
            "Enter as year.2035\n",
            "2035 is not a leap year.\n"
          ]
        }
      ]
    },
    {
      "cell_type": "code",
      "source": [
        "print(\"04_Tall_enought_to_ride\")\n",
        "\n",
        "min_height:int = 50\n",
        "def main():\n",
        "  user:int = int(input(\"How tall are you?\"))\n",
        "  if user >= min_height:\n",
        "    print(\"You are tall enough to ride\")\n",
        "  else:\n",
        "    print(\"You are not tall enought to ride.May be next year.\")\n",
        "\n",
        "if __name__ == \"__main__\":\n",
        "  main()"
      ],
      "metadata": {
        "colab": {
          "base_uri": "https://localhost:8080/"
        },
        "id": "zdhWFi1qvKk9",
        "outputId": "03f9e75a-909e-4369-9e14-3bf97b935478"
      },
      "execution_count": 4,
      "outputs": [
        {
          "output_type": "stream",
          "name": "stdout",
          "text": [
            "04_Tall_enought_to_ride\n",
            "How tall are you?5\n",
            "You are not tall enought to ride.May be next year.\n"
          ]
        }
      ]
    },
    {
      "cell_type": "code",
      "source": [
        "print(\"05_random_numbers\")\n",
        "\n",
        "import random\n",
        "\n",
        "def main():\n",
        "  for i in range(10):\n",
        "   num:list[int] = random.randint(1,100)\n",
        "   print(num)\n",
        "\n",
        "if __name__ == \"__main__\":\n",
        "  main()"
      ],
      "metadata": {
        "colab": {
          "base_uri": "https://localhost:8080/"
        },
        "id": "DYXsWYgywvTR",
        "outputId": "488d2aca-5f54-495c-892c-72712e7960ec"
      },
      "execution_count": 6,
      "outputs": [
        {
          "output_type": "stream",
          "name": "stdout",
          "text": [
            "05_random_numbers\n",
            "46\n",
            "42\n",
            "38\n",
            "99\n",
            "2\n",
            "35\n",
            "79\n",
            "8\n",
            "58\n",
            "28\n"
          ]
        }
      ]
    },
    {
      "cell_type": "code",
      "source": [],
      "metadata": {
        "id": "K-7nlnAxu56V"
      },
      "execution_count": null,
      "outputs": []
    },
    {
      "cell_type": "code",
      "source": [],
      "metadata": {
        "id": "jRYuDxZhjsaC"
      },
      "execution_count": null,
      "outputs": []
    },
    {
      "cell_type": "code",
      "source": [],
      "metadata": {
        "id": "orX4TbY7rBFf"
      },
      "execution_count": null,
      "outputs": []
    }
  ]
}