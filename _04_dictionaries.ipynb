{
  "nbformat": 4,
  "nbformat_minor": 0,
  "metadata": {
    "colab": {
      "provenance": [],
      "authorship_tag": "ABX9TyPGJK/Nl8gYU0RNHr3Gd/RK",
      "include_colab_link": true
    },
    "kernelspec": {
      "name": "python3",
      "display_name": "Python 3"
    },
    "language_info": {
      "name": "python"
    }
  },
  "cells": [
    {
      "cell_type": "markdown",
      "metadata": {
        "id": "view-in-github",
        "colab_type": "text"
      },
      "source": [
        "<a href=\"https://colab.research.google.com/github/syedaali258/project-4-assignments-Syeda/blob/main/_04_dictionaries.ipynb\" target=\"_parent\"><img src=\"https://colab.research.google.com/assets/colab-badge.svg\" alt=\"Open In Colab\"/></a>"
      ]
    },
    {
      "cell_type": "code",
      "source": [
        "print(\"00_count_nums\")\n",
        "\n",
        "def count_numbers():\n",
        "  count_dict = {}\n",
        "\n",
        "  while True:\n",
        "     num = int(input(\"Enter a number (or Exit to quit):\"))\n",
        "     if num.title() == 'Exit':\n",
        "       break\n",
        "     if num.isdigit():\n",
        "      num = int(num)\n",
        "      count_dict[num] = count_dict.get(num, 0) + 1\n",
        "  else:\n",
        "     print(\"Invald input. please enter a number or 'Exit'.\")\n",
        "\n",
        "     return count_dict\n",
        "\n",
        "def display_counts(count_dict):\n",
        "  print(\"\\n Number counts:\")\n",
        "  for key,value in count_numbers.items():\n",
        "    print(f'{key} appears {value} times')\n",
        "\n",
        "if __name__ == \"__main__\":\n",
        "  count = count_numbers()\n",
        "  display_counts(count)"
      ],
      "metadata": {
        "colab": {
          "base_uri": "https://localhost:8080/"
        },
        "id": "_dbaVC7aWvVp",
        "outputId": "b25dc2f6-6c5b-47c8-e2d4-afcb5152e6a4"
      },
      "execution_count": null,
      "outputs": [
        {
          "metadata": {
            "tags": null
          },
          "name": "stdout",
          "output_type": "stream",
          "text": [
            "00_count_nums\n"
          ]
        }
      ]
    },
    {
      "cell_type": "code",
      "source": [
        "print(\"01_phone_book\")\n",
        "\n",
        "def add_contact(phonebook)\n",
        "   name = input(\"Enter contact name:\")\n",
        "   number = input(\"Enter contact number:\")\n",
        "\n",
        "   if name in phonebook:\n",
        "    print(f\"{name}already exists in the phonebook.\")\n",
        "   else:\n",
        "    phonebook[name] = number\n",
        "    print(f\"{name} added to the phonebook.\")\n",
        "\n",
        "\n",
        "def search_contact(phonebook):\n",
        "  name = input(\"Enter contact name to search:\")\n",
        "\n",
        "  if name in phonebook:\n",
        "    print(f\"{name}: {phonebook[name]}\")\n",
        "  else:\n",
        "    print(f\"{name} not found in the phonebook.\")\n",
        "\n",
        "def delete_contact(phonebook):\n",
        "  name = input(\"Enter contact name to delete:\")\n",
        "  if name in phonebook:\n",
        "    del phonebook[name]\n",
        "    print(f\"{name} deleted from the phonebook.\")\n",
        "  else:\n",
        "    print(f\"{name} not found in phonebook.\")\n",
        "\n",
        "\n",
        "def display_contact(phonebook):\n",
        "  if phonebook:\n",
        "    print(\"\\n phonebook contact list\")\n",
        "    for name,numbers in phonebook.items()\n",
        "      print(f\"{name}: {number}\")\n",
        "  else:\n",
        "    print(\"phonebook is empty.\")\n",
        "\n",
        "if __name__ == \"main\"__:\n",
        "  phonebook = {}\n",
        "\n",
        "  while True:\n",
        "    print(\"\\n phonebook menu\")\n",
        "    print(\"1. Add contact\")\n",
        "    print(\"2. Search contact\")\n",
        "    print(\"3. Delete contact\")\n",
        "    print(\"4. Display contacts\")\n",
        "    print(\"5. Exit\")\n",
        "\n",
        "    choice = input(\"Enter your choice (1-5): \")\n",
        "\n",
        "    if choice == '1':\n",
        "      add_contact(phonebook)\n",
        "    elif choice == '2':\n",
        "      search_contact(phonebook)\n",
        "    elif choice == '3':\n",
        "      delete_contact(phonebook)\n",
        "    elif choice == '4':\n",
        "     display_contact(phonebook)\n",
        "    elif choice == '5':\n",
        "      print(\"Exiting phonebook Goodbye!\")\n",
        "      break\n",
        "    else:\n",
        "      print(\"Invalid choice please enter a number between 1 and 5\")\n",
        "\n",
        "\n",
        "\n",
        "\n",
        "\n"
      ],
      "metadata": {
        "id": "XfFi6keiniPp"
      },
      "execution_count": null,
      "outputs": []
    },
    {
      "cell_type": "code",
      "source": [
        "print(\"02_pop_up_shop\")\n",
        "\n",
        "\n",
        "def main():\n",
        "    fruits = {\"apple\":2 ,\"banana\":1 ,\"orange\":3,\"pineapple\":5,\"mango\":2}\n",
        "    total_cost = 0\n",
        "\n",
        "    for fruit in fruits:\n",
        "        amount = fruits[fruit]\n",
        "        fruit_quantity = int(input(f\"How many {fruit} do you want?\"))\n",
        "        total_cost += amount * fruit_quantity\n",
        "\n",
        "    print(f\"Your total is {total_cost}\")\n",
        "\n",
        "if __name__ == \"__main__\":\n",
        "    main()"
      ],
      "metadata": {
        "colab": {
          "base_uri": "https://localhost:8080/"
        },
        "id": "pBpJP88MJZ_b",
        "outputId": "c451d5b3-0ea7-43d0-b7d1-4b5770416d9d"
      },
      "execution_count": null,
      "outputs": [
        {
          "output_type": "stream",
          "name": "stdout",
          "text": [
            "02_pop_up_shop\n",
            "How many apple do you want?6\n",
            "How many banana do you want?8\n",
            "How many orange do you want?5\n",
            "How many pineapple do you want?7\n",
            "How many mango do you want?4\n",
            "Your total is 78\n"
          ]
        }
      ]
    },
    {
      "cell_type": "code",
      "source": [
        "import hashlib\n",
        "\n",
        "print(\"03_powerful_passwords\")\n",
        "\n",
        "def hash_password(password):\n",
        "  return hashlib.sha256(password.encode()).hexdigest()\n",
        "\n",
        "\n",
        "stored_logins = {\n",
        "    \"user@example.com\":hash_password(\"password123\"),\n",
        "    \"admin@example.com\": hash_password(\"adminpass\")\n",
        "}\n",
        "\n",
        "def login(email,password):\n",
        "  if email in stored_logins:\n",
        "    return stored_logins[email] == hash_password(password)\n",
        "  return False\n",
        "\n",
        "if __name__ == \"__main__\":\n",
        "  email = input(\"Enter your email:\")\n",
        "  password = input(\"Enter your password:\")\n",
        "\n",
        "\n",
        "  if login(email, password):\n",
        "    print(\"Login successful\")\n",
        "  else:\n",
        "    print(\"Invalid email or password.\")"
      ],
      "metadata": {
        "colab": {
          "base_uri": "https://localhost:8080/"
        },
        "id": "hYQCe-0PKB_-",
        "outputId": "410d552c-c524-419f-8a11-9661bd503944"
      },
      "execution_count": null,
      "outputs": [
        {
          "output_type": "stream",
          "name": "stdout",
          "text": [
            "03_powerful_passwords\n",
            "Enter your email:user@example.com\n",
            "Enter your password:password123\n",
            "Login successful\n"
          ]
        }
      ]
    }
  ]
}