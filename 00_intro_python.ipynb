{
  "nbformat": 4,
  "nbformat_minor": 0,
  "metadata": {
    "colab": {
      "provenance": [],
      "authorship_tag": "ABX9TyNPWYVxenAdKIFU82nvswYT",
      "include_colab_link": true
    },
    "kernelspec": {
      "name": "python3",
      "display_name": "Python 3"
    },
    "language_info": {
      "name": "python"
    }
  },
  "cells": [
    {
      "cell_type": "markdown",
      "metadata": {
        "id": "view-in-github",
        "colab_type": "text"
      },
      "source": [
        "<a href=\"https://colab.research.google.com/github/syedaali258/project-4-assignments-Syeda/blob/main/00_intro_python.ipynb\" target=\"_parent\"><img src=\"https://colab.research.google.com/assets/colab-badge.svg\" alt=\"Open In Colab\"/></a>"
      ]
    },
    {
      "cell_type": "code",
      "execution_count": 2,
      "metadata": {
        "colab": {
          "base_uri": "https://localhost:8080/"
        },
        "id": "Wjgiy2YJ-tIb",
        "outputId": "071027bd-6e0c-4636-b143-ab30caed23d7"
      },
      "outputs": [
        {
          "output_type": "stream",
          "name": "stdout",
          "text": [
            "01_add_two_numbers\n",
            "This application for add two numbers\n",
            "Enter your first number.5\n",
            "Enter your second number.9\n",
            "the total sum of 5 and 9 is 14\n"
          ]
        }
      ],
      "source": [
        "print(\"01_add_two_numbers\")\n",
        "\n",
        "def add():\n",
        "    print(\"This application for add two numbers\")\n",
        "    first_number = int(input(\"Enter your first number.\"))\n",
        "    second_number = int(input(\"Enter your second number.\"))\n",
        "    total = int(first_number + second_number)\n",
        "    print(f'the total sum of {first_number} and {second_number} is {total}')\n",
        "\n",
        "if __name__ == \"__main__\":\n",
        "    add()\n",
        "\n"
      ]
    },
    {
      "cell_type": "code",
      "source": [
        "print(\"02_agreement_bot\")\n",
        "\n",
        "def bot():\n",
        "    animal = str(input(\"what their favorite animal is?\"))\n",
        "    print(f'My favorite animal is also {animal}!')\n",
        "\n",
        "if __name__ == \"__main__\":\n",
        "    bot()\n",
        "\n",
        "\n"
      ],
      "metadata": {
        "colab": {
          "base_uri": "https://localhost:8080/"
        },
        "id": "lpU-TXCW_uCb",
        "outputId": "a2bcd795-fd58-4ac4-8178-d1e5b61b17a6"
      },
      "execution_count": 3,
      "outputs": [
        {
          "output_type": "stream",
          "name": "stdout",
          "text": [
            "02_agreement_bot\n",
            "what their favorite animal is?cat\n",
            "My favorite animal is also cat!\n"
          ]
        }
      ]
    },
    {
      "cell_type": "code",
      "source": [
        "print(\"03_Farhenheit_to_celsiuc\")\n",
        "\n",
        "def temp():\n",
        "    print(\"This code is converting Fahrenheit to celsius\")\n",
        "    fahrenheit_degree = float(input(\"Enter your fahrenheit degree.\"))\n",
        "    celsius_degree = (fahrenheit_degree -32 ) * 5.0/9.0\n",
        "    print(f'Temprature {fahrenheit_degree} F = {celsius_degree} C')\n",
        "\n",
        "if __name__ == \"__main__\":\n",
        "    temp()\n",
        "\n",
        ""
      ],
      "metadata": {
        "colab": {
          "base_uri": "https://localhost:8080/"
        },
        "id": "byOeEGA-ALt_",
        "outputId": "e3cd5cbe-e91e-40aa-8dfc-578d760a8b47"
      },
      "execution_count": 4,
      "outputs": [
        {
          "output_type": "stream",
          "name": "stdout",
          "text": [
            "03_Farhenheit_to_celsiuc\n",
            "This code is converting Fahrenheit to celsius\n",
            "Enter your fahrenheit degree.67\n",
            "Temprature 67.0 F = 19.444444444444443 C\n"
          ]
        }
      ]
    },
    {
      "cell_type": "code",
      "source": [
        "print(\"04_how_old_are_they\")\n",
        "\n",
        "def add_ages():\n",
        "    anthon:int = 21\n",
        "    beth:int = 6 + anthon\n",
        "    chen:int = 20 + beth\n",
        "    drew:int = chen + anthon\n",
        "    ethan:int = chen\n",
        "\n",
        "    print(\"Anthon is \" + str(anthon))\n",
        "    print(\"Beth is \" + str(beth))\n",
        "    print(\"Chen is \" + str(chen))\n",
        "    print(\"Drew is \" + str(drew))\n",
        "    print(\"Ethan is \" + str(ethan))\n",
        "\n",
        "\n",
        "if __name__ == \"__main__\":\n",
        "    add_ages()"
      ],
      "metadata": {
        "colab": {
          "base_uri": "https://localhost:8080/"
        },
        "id": "ELHTSevoAgYV",
        "outputId": "b901b39d-22c5-44ac-f0c6-304d0a3fd712"
      },
      "execution_count": 5,
      "outputs": [
        {
          "output_type": "stream",
          "name": "stdout",
          "text": [
            "04_how_old_are_they\n",
            "Anthon is 21\n",
            "Beth is 27\n",
            "Chen is 47\n",
            "Drew is 68\n",
            "Ethan is 47\n"
          ]
        }
      ]
    },
    {
      "cell_type": "code",
      "source": [
        "print(\"05_triangle_perameter\")\n",
        "\n",
        "def traingle():\n",
        "    print(\"this code is about sum of triangle sides\")\n",
        "    side1:float =float(input(\"Enter your first side number of triangle.\"))\n",
        "    side2:float =float(input(\"Enter your second side number of triangle.\"))\n",
        "    side3:float =float(input(\"Enter your third side number of triangle.\"))\n",
        "    total:float =float(side1 + side2 + side3)\n",
        "    print(f\"'The sum of {side1}, {side2} {side3}\" is {total})\n",
        "\n",
        "\n",
        "if __name__ == \"__main__\":\n",
        "   traingle()"
      ],
      "metadata": {
        "colab": {
          "base_uri": "https://localhost:8080/"
        },
        "id": "UgMBNCQjAxNB",
        "outputId": "76bd02cb-112f-481e-b0b2-107cfd3148df"
      },
      "execution_count": 6,
      "outputs": [
        {
          "output_type": "stream",
          "name": "stdout",
          "text": [
            "05_triangle_perameter\n",
            "this code is about sum of triangle sides\n",
            "Enter your first side number of triangle.6.9\n",
            "Enter your second side number of triangle.4\n",
            "Enter your third side number of triangle.8\n",
            "False\n"
          ]
        }
      ]
    },
    {
      "cell_type": "code",
      "source": [
        "print(\"06_square_number\")\n",
        "\n",
        "def square():\n",
        "    print(\"Ths code is about square of given number\")\n",
        "    num1:int = int(input(\"Enter any number and i will give you a square value.\"))\n",
        "    print(f\"The square of {num1} is {num1 ** 2}\")\n",
        "\n",
        "if __name__ == \"__main__\":\n",
        "    square()"
      ],
      "metadata": {
        "colab": {
          "base_uri": "https://localhost:8080/"
        },
        "id": "SehBFiwZBGSS",
        "outputId": "8bce6e9b-9019-48e2-e077-31c0f1bd2672"
      },
      "execution_count": 7,
      "outputs": [
        {
          "output_type": "stream",
          "name": "stdout",
          "text": [
            "06_square_number\n",
            "Ths code is about square of given number\n",
            "Enter any number and i will give you a square value.68\n",
            "The square of 68 is 4624\n"
          ]
        }
      ]
    }
  ]
}