{
  "nbformat": 4,
  "nbformat_minor": 0,
  "metadata": {
    "colab": {
      "provenance": [],
      "authorship_tag": "ABX9TyOQZLiGlCYiSBISVJ64Uub9",
      "include_colab_link": true
    },
    "kernelspec": {
      "name": "python3",
      "display_name": "Python 3"
    },
    "language_info": {
      "name": "python"
    }
  },
  "cells": [
    {
      "cell_type": "markdown",
      "metadata": {
        "id": "view-in-github",
        "colab_type": "text"
      },
      "source": [
        "<a href=\"https://colab.research.google.com/github/syedaali258/project-4-assignments-Syeda/blob/main/05_loops_controlflow_pynb.ipynb\" target=\"_parent\"><img src=\"https://colab.research.google.com/assets/colab-badge.svg\" alt=\"Open In Colab\"/></a>"
      ]
    },
    {
      "cell_type": "code",
      "source": [],
      "metadata": {
        "id": "15TZ1iYiz7r-"
      },
      "execution_count": null,
      "outputs": []
    },
    {
      "cell_type": "code",
      "source": [
        "import random\n",
        "\n",
        "print(\"00_guess_my-number\")\n",
        "\n",
        "\n",
        "secret_number = random.randint(0,99)  # Generate a random number\n",
        "\n",
        "guess_number = int(input(\"Enter a guess :\"))   # Ask for user input\n",
        "\n",
        "while guess_number != secret_number:  # Repeat until correct guess\n",
        "    if guess_number > secret_number:\n",
        "        print(\"Your guess is too high \")\n",
        "    else:\n",
        "        print(\"Your guess is too low \")\n",
        "\n",
        "    guess_number = int(input(\"Enter a new number :\")) # Ask for a new guess\n",
        "\n",
        "print(f\"Congrats! The number was: {secret_number}\") # End game on correct guess"
      ],
      "metadata": {
        "id": "BjifzHPUzSjQ",
        "colab": {
          "base_uri": "https://localhost:8080/"
        },
        "outputId": "37d610ec-d6e6-4353-ab5e-e1f2a694fbb6"
      },
      "execution_count": null,
      "outputs": [
        {
          "output_type": "stream",
          "name": "stdout",
          "text": [
            "Enter a guess :56\n",
            "Your guess is too high \n",
            "Enter a new number :98\n",
            "Your guess is too high \n",
            "Enter a new number :56\n",
            "Your guess is too high \n",
            "Enter a new number :34\n",
            "Your guess is too high \n",
            "Enter a new number :48\n",
            "Your guess is too high \n",
            "Enter a new number :20\n",
            "Your guess is too high \n",
            "Enter a new number :10\n",
            "Your guess is too high \n",
            "Enter a new number :2\n",
            "Your guess is too high \n",
            "Enter a new number :1\n",
            "Your guess is too high \n",
            "Enter a new number :0\n",
            "Congrats! The number was: 0\n"
          ]
        }
      ]
    },
    {
      "cell_type": "code",
      "source": [
        "print(\"01_fibonacci\")\n",
        "\n",
        "\n",
        "\n",
        "MAX_TERM_VALUE : int = 10000\n",
        "\n",
        "def main():\n",
        "    curr_term = 0\n",
        "    next_term = 1\n",
        "    while curr_term <= MAX_TERM_VALUE:\n",
        "        print(curr_term)\n",
        "        term_after_next = curr_term + next_term\n",
        "        curr_term = next_term\n",
        "        next_term = term_after_next\n",
        "\n",
        "\n",
        "\n",
        "\n",
        "if __name__ == '__main__':\n",
        "    main()"
      ],
      "metadata": {
        "id": "1oe2R8JGzS2D",
        "colab": {
          "base_uri": "https://localhost:8080/"
        },
        "outputId": "8fed428c-6afc-4929-85f7-46e704f7e668"
      },
      "execution_count": null,
      "outputs": [
        {
          "output_type": "stream",
          "name": "stdout",
          "text": [
            "01_fibonacci\n",
            "0\n",
            "1\n",
            "1\n",
            "2\n",
            "3\n",
            "5\n",
            "8\n",
            "13\n",
            "21\n",
            "34\n",
            "55\n",
            "89\n",
            "144\n",
            "233\n",
            "377\n",
            "610\n",
            "987\n",
            "1597\n",
            "2584\n",
            "4181\n",
            "6765\n"
          ]
        }
      ]
    },
    {
      "cell_type": "code",
      "source": [
        "print(\"02_print_events\")\n",
        "\n",
        "def main():\n",
        "  for i in range(0,20):\n",
        "    print(i * 2)\n",
        "\n",
        "\n",
        "if __name__ == \"__main__\":\n",
        "  main()\n"
      ],
      "metadata": {
        "colab": {
          "base_uri": "https://localhost:8080/"
        },
        "id": "W0So6H7JVs3s",
        "outputId": "0ebbda89-8e08-483f-f8a0-409e2e7a979d"
      },
      "execution_count": null,
      "outputs": [
        {
          "output_type": "stream",
          "name": "stdout",
          "text": [
            "02_print_events\n",
            "0\n",
            "2\n",
            "4\n",
            "6\n",
            "8\n",
            "10\n",
            "12\n",
            "14\n",
            "16\n",
            "18\n",
            "20\n",
            "22\n",
            "24\n",
            "26\n",
            "28\n",
            "30\n",
            "32\n",
            "34\n",
            "36\n",
            "38\n"
          ]
        }
      ]
    },
    {
      "cell_type": "code",
      "source": [
        "print(\"03_wholesome_machine\")\n",
        "\n",
        "correct_affirmation = \"I am capable of doing anything.I put my mind too\"\n",
        "\n",
        "def main():\n",
        "  print(\"welcome to the wholesome machine\")\n",
        "  while True:\n",
        "    user_input = input(\"please type the following affermation:\"  + correct_affirmation)\n",
        "    if user_input == correct_affirmation:\n",
        "      print(\"That\\'s right!\")\n",
        "      break\n",
        "    else:\n",
        "      print(\"Hmm That was not the affirmation. please try again!\")\n",
        "\n",
        "\n",
        "if __name__ == \"__main__\":\n",
        "  main()\n",
        "\n"
      ],
      "metadata": {
        "colab": {
          "base_uri": "https://localhost:8080/"
        },
        "id": "QYPXysa_Za8_",
        "outputId": "fd136ce6-0efb-4f79-e84b-d80b122a4e73"
      },
      "execution_count": null,
      "outputs": [
        {
          "output_type": "stream",
          "name": "stdout",
          "text": [
            "03_wholesome_machine\n",
            "welcome to the wholesome machine\n",
            "please type the following affermation:I am capable of doing anything.I put my mind toook\n",
            "Hmm That was not the affirmation. please try again!\n",
            "please type the following affermation:I am capable of doing anything.I put my mind tooI am capable of doing anything.I put my mind too\n",
            "That's right!\n"
          ]
        }
      ]
    },
    {
      "cell_type": "code",
      "source": [
        "print(\"04-liftoff\")\n",
        "\n",
        "def main():\n",
        "  for i in range(10,0,-1):\n",
        "    print(i,end = \" \")\n",
        "  print(\"liftoff\")\n",
        "\n",
        "\n",
        "if __name__ == \"__main__\":\n",
        "  main()"
      ],
      "metadata": {
        "colab": {
          "base_uri": "https://localhost:8080/"
        },
        "id": "oGVehDFyrrtI",
        "outputId": "53a0b782-01d1-42cf-d5ef-f89faf348923"
      },
      "execution_count": null,
      "outputs": [
        {
          "output_type": "stream",
          "name": "stdout",
          "text": [
            "04-liftoff\n",
            "10 9 8 7 6 5 4 3 2 1 liftoff\n"
          ]
        }
      ]
    },
    {
      "cell_type": "code",
      "source": [
        "print(\"05_double_it\")\n",
        "\n",
        "def main():\n",
        "  user_value = int(input(\"Enter a number: \"))\n",
        "  while user_value < 100:\n",
        "    user_value = user_value * 2\n",
        "    print(user_value)\n",
        "\n",
        "if __name__ == \"__main__\":\n",
        "  main()"
      ],
      "metadata": {
        "colab": {
          "base_uri": "https://localhost:8080/"
        },
        "id": "dGmsKZL0uItc",
        "outputId": "20ecd8f1-f2fe-47a4-f3b9-654b73dd0daa"
      },
      "execution_count": null,
      "outputs": [
        {
          "output_type": "stream",
          "name": "stdout",
          "text": [
            "05_double_it\n",
            "Enter a number: 2\n",
            "4\n",
            "8\n",
            "16\n",
            "32\n",
            "64\n",
            "128\n"
          ]
        }
      ]
    }
  ]
}