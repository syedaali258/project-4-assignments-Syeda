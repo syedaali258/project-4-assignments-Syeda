{
  "nbformat": 4,
  "nbformat_minor": 0,
  "metadata": {
    "colab": {
      "provenance": [],
      "authorship_tag": "ABX9TyPEJaFOm6LZAlC0aPFs+XIT",
      "include_colab_link": true
    },
    "kernelspec": {
      "name": "python3",
      "display_name": "Python 3"
    },
    "language_info": {
      "name": "python"
    }
  },
  "cells": [
    {
      "cell_type": "markdown",
      "metadata": {
        "id": "view-in-github",
        "colab_type": "text"
      },
      "source": [
        "<a href=\"https://colab.research.google.com/github/syedaali258/project-4-assignments-Syeda/blob/main/02_lists.ipynb\" target=\"_parent\"><img src=\"https://colab.research.google.com/assets/colab-badge.svg\" alt=\"Open In Colab\"/></a>"
      ]
    },
    {
      "cell_type": "code",
      "execution_count": null,
      "metadata": {
        "colab": {
          "base_uri": "https://localhost:8080/"
        },
        "id": "7nxqaVOV7ylV",
        "outputId": "afa2c498-82f8-41ba-a929-4e4b2ec349fb"
      },
      "outputs": [
        {
          "output_type": "stream",
          "name": "stdout",
          "text": [
            "01_add_many_number\n",
            "15\n"
          ]
        }
      ],
      "source": [
        "print(\"01_add_many_number\")\n",
        "\n",
        "def add_number(numbers)->int:\n",
        "  num:int = 0\n",
        "  for i in numbers:\n",
        "   num += i\n",
        "  return num\n",
        "\n",
        "def main():\n",
        "  numbers:list[int] = [1,2,3,4,5]\n",
        "  sum =add_number(numbers)\n",
        "  print(sum)\n",
        "\n",
        "\n",
        "\n",
        "if __name__ == \"__main__\":\n",
        "  main()\n"
      ]
    },
    {
      "cell_type": "code",
      "source": [
        "from ast import Index\n",
        "print(\"02_double_list\")\n",
        "\n",
        "def main():\n",
        "  numbers:list[int] = [1,2,3,4,5]\n",
        "  for i in range(len(numbers)):\n",
        "     index = numbers[i]\n",
        "     numbers[i] = index * 2\n",
        "     print(numbers)\n",
        "\n",
        "\n",
        "if __name__ == \"__main__\":\n",
        "  main()\n",
        "\n",
        "\n",
        "\n"
      ],
      "metadata": {
        "colab": {
          "base_uri": "https://localhost:8080/"
        },
        "id": "qux_11np902A",
        "outputId": "79b3a16f-ccb0-4ffd-9346-dc5ac27f3443"
      },
      "execution_count": null,
      "outputs": [
        {
          "output_type": "stream",
          "name": "stdout",
          "text": [
            "02_double_list\n",
            "[2, 2, 3, 4, 5]\n",
            "[2, 4, 3, 4, 5]\n",
            "[2, 4, 6, 4, 5]\n",
            "[2, 4, 6, 8, 5]\n",
            "[2, 4, 6, 8, 10]\n"
          ]
        }
      ]
    },
    {
      "cell_type": "code",
      "source": [
        "print(\"_04_flowing_with_data_structures\")\n",
        "\n",
        "def  add_three_copies(lst,data):\n",
        "   for i in range(3):\n",
        "    lst.append(data)\n",
        "\n",
        "def main():\n",
        "   message = input(\"Enter a message to copy.\")\n",
        "   lst = []\n",
        "   print(\"Before list: \", lst)\n",
        "   add_three_copies(lst,message)\n",
        "   print(\"After lst: \",lst)\n",
        "\n",
        "\n",
        "if __name__ == \"__main__\":\n",
        "  main()\n",
        "\n",
        "\n",
        "\n"
      ],
      "metadata": {
        "colab": {
          "base_uri": "https://localhost:8080/"
        },
        "id": "N5UTf7ZbA9f4",
        "outputId": "5308ec01-03a3-42df-8a74-868abcfe47b0"
      },
      "execution_count": null,
      "outputs": [
        {
          "output_type": "stream",
          "name": "stdout",
          "text": [
            "_04_flowing_with_data_structures\n",
            "Enter a message to copy.hello world\n",
            "Before list:  []\n",
            "After lst:  ['hello world', 'hello world', 'hello world']\n"
          ]
        }
      ]
    },
    {
      "cell_type": "code",
      "source": [
        "(\"05_get_first_element\")\n",
        "\n",
        "def get_first_element(lst):\n",
        "  print(lst[0])\n",
        "\n",
        "def get_lst():\n",
        "  lst = []\n",
        "  elem:str = (input(\"Enter an element to add to the list.\"))\n",
        "  while elem != \"\":\n",
        "    lst.append(elem)\n",
        "    elem = (input(\"Enter an element to add to the list.\"))\n",
        "    return lst\n",
        "\n",
        "def main():\n",
        "  lst = get_lst()\n",
        "  get_first_element(lst)\n",
        "\n",
        "\n",
        "\n",
        "if __name__ == \"__main__\":\n",
        "  main()\n",
        "\n",
        "\n",
        "\n"
      ],
      "metadata": {
        "id": "4qOxE5KZHzmk",
        "colab": {
          "base_uri": "https://localhost:8080/"
        },
        "outputId": "b6a4c9f4-811f-4734-a7d3-bee14ed42641"
      },
      "execution_count": null,
      "outputs": [
        {
          "output_type": "stream",
          "name": "stdout",
          "text": [
            "Enter an element to add to the list.a\n",
            "Enter an element to add to the list.b\n",
            "a\n"
          ]
        }
      ]
    },
    {
      "cell_type": "code",
      "source": [
        "(\"06_get_last_element\")\n",
        "\n",
        "def get_last_element(lst):\n",
        "  print(lst[-1])\n",
        "\n",
        "def get_lst():\n",
        "  lst = []\n",
        "  elem:str = (input(\"Enter an element to add to the list.\"))\n",
        "  while elem != \"\":\n",
        "    lst.append(elem)\n",
        "    elem = (input(\"Enter an element to add to the list.\"))\n",
        "    return lst\n",
        "\n",
        "def main():\n",
        "  lst = get_lst()\n",
        "  get_last_element(lst)\n",
        "\n",
        "\n",
        "\n",
        "if __name__ == \"__main__\":\n",
        "  main()\n",
        "\n",
        "\n",
        "\n"
      ],
      "metadata": {
        "colab": {
          "base_uri": "https://localhost:8080/"
        },
        "id": "_CnYAsA3L2Tn",
        "outputId": "ae5119e4-27b8-439c-9c12-f2cb6d9b5b9d"
      },
      "execution_count": null,
      "outputs": [
        {
          "output_type": "stream",
          "name": "stdout",
          "text": [
            "Enter an element to add to the list.a\n",
            "Enter an element to add to the list.b\n",
            "a\n"
          ]
        }
      ]
    },
    {
      "cell_type": "code",
      "source": [
        "print(\"07_get_list\")\n",
        "\n",
        "def main():\n",
        "  lst = []\n",
        "  val = input(\"Enter a value to add to the list\")\n",
        "  while val:\n",
        "    lst.append(val)\n",
        "    val = input(\"Enter a value to add to the list\")\n",
        "  print(\"Here is the list: \" ,lst)\n",
        "\n",
        "\n",
        "if __name__ == \"__main__\":\n",
        "  main()"
      ],
      "metadata": {
        "colab": {
          "base_uri": "https://localhost:8080/"
        },
        "id": "rq-UsS-sXEoe",
        "outputId": "20755fea-43f4-48d1-b0ca-581cf066ca89"
      },
      "execution_count": null,
      "outputs": [
        {
          "output_type": "stream",
          "name": "stdout",
          "text": [
            "07_get_list\n",
            "Enter a value to add to the listbushra\n",
            "Enter a value to add to the listmeerab\n",
            "Enter a value to add to the listsadia\n",
            "Enter a value to add to the listasad\n",
            "Enter a value to add to the listwasif\n",
            "Enter a value to add to the listsana\n",
            "Enter a value to add to the list\n",
            "Here is the list:  ['bushra', 'meerab', 'sadia', 'asad', 'wasif', 'sana']\n"
          ]
        }
      ]
    },
    {
      "cell_type": "code",
      "source": [
        "print(\"08_shorten\")\n",
        "\n",
        "MAX_LENGTH: int = 3\n",
        "\n",
        "def shorten(lst):\n",
        "    while len(lst) >= MAX_LENGTH:\n",
        "        last_element = lst.pop()\n",
        "        print(last_element)\n",
        "\n",
        "def get_list():\n",
        "    lst = []\n",
        "    element = input(\"Enter an element to add to the list:  \")\n",
        "    while element != \"\":\n",
        "        lst.append(element)\n",
        "        element = input(\"Enter an element to add to the list:  \")\n",
        "    return lst\n",
        "\n",
        "def main():\n",
        "    lst = get_list()\n",
        "    shorten(lst)\n",
        "\n",
        "if __name__ == \"__main__\":\n",
        "    main()\n"
      ],
      "metadata": {
        "id": "_JdoCZ4DeVWZ",
        "outputId": "12adfb1c-fbc3-424a-aedc-6493c9573269",
        "colab": {
          "base_uri": "https://localhost:8080/"
        }
      },
      "execution_count": null,
      "outputs": [
        {
          "metadata": {
            "tags": null
          },
          "name": "stdout",
          "output_type": "stream",
          "text": [
            "08_shorten\n"
          ]
        }
      ]
    },
    {
      "cell_type": "code",
      "source": [],
      "metadata": {
        "id": "npNVYjzvkiiS"
      },
      "execution_count": null,
      "outputs": []
    },
    {
      "cell_type": "code",
      "source": [],
      "metadata": {
        "id": "m-_jAMpqkTlR"
      },
      "execution_count": null,
      "outputs": []
    },
    {
      "cell_type": "code",
      "source": [],
      "metadata": {
        "id": "dwpbNus5YiMN"
      },
      "execution_count": null,
      "outputs": []
    },
    {
      "cell_type": "code",
      "source": [],
      "metadata": {
        "id": "2eFWAY5IXCUT"
      },
      "execution_count": null,
      "outputs": []
    }
  ]
}